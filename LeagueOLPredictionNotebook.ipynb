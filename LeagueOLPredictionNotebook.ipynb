{
 "cells": [
  {
   "cell_type": "markdown",
   "metadata": {},
   "source": [
    "League Of Legend Match Data <br>\n",
    "Goal : Predict winner team based on information at early game stage. <br>\n",
    "16 Columns (13 categorical data) 10000 rows <br>\n",
    "majority : miniority class = 8 : 2 <br>\n",
    "missing data : about 5% <br>\n",
    "Evaluation Metric: ROC - AUC"
   ]
  },
  {
   "cell_type": "code",
   "execution_count": 8,
   "metadata": {},
   "outputs": [],
   "source": [
    "!jt -t onedork"
   ]
  },
  {
   "cell_type": "markdown",
   "metadata": {},
   "source": [
    "<b>Results</b>\n",
    "\n",
    "- Best Model parameters:<br>\n",
    "    StackingClassifier(final estimator=<b>Logistic Regression</b>,final_estimator__C= 0.1,stack_method='auto'}) <br>\n",
    "   and the following 5 estimators:<br>\n",
    "    1. DecisionTree(max_depth=5)<br>\n",
    "    2. Random Forest(criterion='gini', max_depth=6, max_features='auto',n_estimators=100)<br>\n",
    "    3. Gradient Boost(learning_rate= 0.5, max_depth= 6, n_estimators=150)<br>\n",
    "    4. ExtraTrees(criterion='entropy', max_depth= 8, max_features='auto', n_estimators=50)<br>\n",
    "    5. XGBoost(learning_rate=0.5, max_depth=6, min_child_weight=1, n_estimators=150, subsample=0.8)<br><br>\n",
    "    \n",
    "- Mean Cross validation score of Best model:<br>\n",
    "    0.8883\n",
    "- Train score of bestmodel:<br>\n",
    "    0.9963\n",
    "- Test score of best model:<br>\n",
    "    0.9020"
   ]
  },
  {
   "cell_type": "code",
   "execution_count": 1,
   "metadata": {},
   "outputs": [],
   "source": [
    "import pandas as pd\n",
    "import numpy as np\n",
    "import matplotlib.pyplot as plt"
   ]
  },
  {
   "cell_type": "code",
   "execution_count": 2,
   "metadata": {},
   "outputs": [],
   "source": [
    "df = pd.read_csv(\"LeagueOL.csv\")"
   ]
  },
  {
   "cell_type": "code",
   "execution_count": 3,
   "metadata": {},
   "outputs": [
    {
     "data": {
      "text/html": [
       "<div>\n",
       "<style scoped>\n",
       "    .dataframe tbody tr th:only-of-type {\n",
       "        vertical-align: middle;\n",
       "    }\n",
       "\n",
       "    .dataframe tbody tr th {\n",
       "        vertical-align: top;\n",
       "    }\n",
       "\n",
       "    .dataframe thead th {\n",
       "        text-align: right;\n",
       "    }\n",
       "</style>\n",
       "<table border=\"1\" class=\"dataframe\">\n",
       "  <thead>\n",
       "    <tr style=\"text-align: right;\">\n",
       "      <th></th>\n",
       "      <th>gameId</th>\n",
       "      <th>gameDuration</th>\n",
       "      <th>firstBlood</th>\n",
       "      <th>firstTower</th>\n",
       "      <th>firstRiftHerald</th>\n",
       "      <th>t1_champ1id</th>\n",
       "      <th>t1_champ2id</th>\n",
       "      <th>t1_champ3id</th>\n",
       "      <th>t1_champ4id</th>\n",
       "      <th>t1_champ5id</th>\n",
       "      <th>t2_champ1id</th>\n",
       "      <th>t2_champ2id</th>\n",
       "      <th>t2_champ3id</th>\n",
       "      <th>t2_champ4id</th>\n",
       "      <th>t2_champ5id</th>\n",
       "      <th>T1win</th>\n",
       "    </tr>\n",
       "  </thead>\n",
       "  <tbody>\n",
       "    <tr>\n",
       "      <th>0</th>\n",
       "      <td>3330653802</td>\n",
       "      <td>1227.0</td>\n",
       "      <td>1</td>\n",
       "      <td>1</td>\n",
       "      <td>0</td>\n",
       "      <td>141.0</td>\n",
       "      <td>133.0</td>\n",
       "      <td>90.0</td>\n",
       "      <td>163.0</td>\n",
       "      <td>92</td>\n",
       "      <td>8.0</td>\n",
       "      <td>238.0</td>\n",
       "      <td>40.0</td>\n",
       "      <td>96.0</td>\n",
       "      <td>64.0</td>\n",
       "      <td>1</td>\n",
       "    </tr>\n",
       "    <tr>\n",
       "      <th>1</th>\n",
       "      <td>3318136043</td>\n",
       "      <td>2345.0</td>\n",
       "      <td>1</td>\n",
       "      <td>2</td>\n",
       "      <td>1</td>\n",
       "      <td>112.0</td>\n",
       "      <td>32.0</td>\n",
       "      <td>92.0</td>\n",
       "      <td>40.0</td>\n",
       "      <td>67</td>\n",
       "      <td>57.0</td>\n",
       "      <td>105.0</td>\n",
       "      <td>120.0</td>\n",
       "      <td>111.0</td>\n",
       "      <td>429.0</td>\n",
       "      <td>1</td>\n",
       "    </tr>\n",
       "    <tr>\n",
       "      <th>2</th>\n",
       "      <td>3330478389</td>\n",
       "      <td>1474.0</td>\n",
       "      <td>1</td>\n",
       "      <td>1</td>\n",
       "      <td>1</td>\n",
       "      <td>33.0</td>\n",
       "      <td>41.0</td>\n",
       "      <td>18.0</td>\n",
       "      <td>48.0</td>\n",
       "      <td>25</td>\n",
       "      <td>92.0</td>\n",
       "      <td>117.0</td>\n",
       "      <td>24.0</td>\n",
       "      <td>99.0</td>\n",
       "      <td>15.0</td>\n",
       "      <td>1</td>\n",
       "    </tr>\n",
       "    <tr>\n",
       "      <th>3</th>\n",
       "      <td>3327410592</td>\n",
       "      <td>1380.0</td>\n",
       "      <td>1</td>\n",
       "      <td>1</td>\n",
       "      <td>1</td>\n",
       "      <td>81.0</td>\n",
       "      <td>201.0</td>\n",
       "      <td>23.0</td>\n",
       "      <td>24.0</td>\n",
       "      <td>34</td>\n",
       "      <td>39.0</td>\n",
       "      <td>29.0</td>\n",
       "      <td>161.0</td>\n",
       "      <td>15.0</td>\n",
       "      <td>432.0</td>\n",
       "      <td>1</td>\n",
       "    </tr>\n",
       "    <tr>\n",
       "      <th>4</th>\n",
       "      <td>3331017133</td>\n",
       "      <td>1369.0</td>\n",
       "      <td>1</td>\n",
       "      <td>1</td>\n",
       "      <td>1</td>\n",
       "      <td>498.0</td>\n",
       "      <td>31.0</td>\n",
       "      <td>497.0</td>\n",
       "      <td>98.0</td>\n",
       "      <td>1</td>\n",
       "      <td>67.0</td>\n",
       "      <td>117.0</td>\n",
       "      <td>20.0</td>\n",
       "      <td>238.0</td>\n",
       "      <td>58.0</td>\n",
       "      <td>1</td>\n",
       "    </tr>\n",
       "  </tbody>\n",
       "</table>\n",
       "</div>"
      ],
      "text/plain": [
       "       gameId  gameDuration  firstBlood  firstTower  firstRiftHerald  \\\n",
       "0  3330653802        1227.0           1           1                0   \n",
       "1  3318136043        2345.0           1           2                1   \n",
       "2  3330478389        1474.0           1           1                1   \n",
       "3  3327410592        1380.0           1           1                1   \n",
       "4  3331017133        1369.0           1           1                1   \n",
       "\n",
       "   t1_champ1id  t1_champ2id  t1_champ3id  t1_champ4id  t1_champ5id  \\\n",
       "0        141.0        133.0         90.0        163.0           92   \n",
       "1        112.0         32.0         92.0         40.0           67   \n",
       "2         33.0         41.0         18.0         48.0           25   \n",
       "3         81.0        201.0         23.0         24.0           34   \n",
       "4        498.0         31.0        497.0         98.0            1   \n",
       "\n",
       "   t2_champ1id  t2_champ2id  t2_champ3id  t2_champ4id  t2_champ5id  T1win  \n",
       "0          8.0        238.0         40.0         96.0         64.0      1  \n",
       "1         57.0        105.0        120.0        111.0        429.0      1  \n",
       "2         92.0        117.0         24.0         99.0         15.0      1  \n",
       "3         39.0         29.0        161.0         15.0        432.0      1  \n",
       "4         67.0        117.0         20.0        238.0         58.0      1  "
      ]
     },
     "execution_count": 3,
     "metadata": {},
     "output_type": "execute_result"
    }
   ],
   "source": [
    "pd.pandas.set_option('display.max_columns', 999)\n",
    "df.head()"
   ]
  },
  {
   "cell_type": "code",
   "execution_count": 4,
   "metadata": {},
   "outputs": [
    {
     "data": {
      "text/plain": [
       "(10000, 16)"
      ]
     },
     "execution_count": 4,
     "metadata": {},
     "output_type": "execute_result"
    }
   ],
   "source": [
    "df.shape"
   ]
  },
  {
   "cell_type": "code",
   "execution_count": 5,
   "metadata": {},
   "outputs": [
    {
     "data": {
      "text/html": [
       "<div>\n",
       "<style scoped>\n",
       "    .dataframe tbody tr th:only-of-type {\n",
       "        vertical-align: middle;\n",
       "    }\n",
       "\n",
       "    .dataframe tbody tr th {\n",
       "        vertical-align: top;\n",
       "    }\n",
       "\n",
       "    .dataframe thead th {\n",
       "        text-align: right;\n",
       "    }\n",
       "</style>\n",
       "<table border=\"1\" class=\"dataframe\">\n",
       "  <thead>\n",
       "    <tr style=\"text-align: right;\">\n",
       "      <th></th>\n",
       "      <th>gameId</th>\n",
       "      <th>gameDuration</th>\n",
       "      <th>firstBlood</th>\n",
       "      <th>firstTower</th>\n",
       "      <th>firstRiftHerald</th>\n",
       "      <th>t1_champ1id</th>\n",
       "      <th>t1_champ2id</th>\n",
       "      <th>t1_champ3id</th>\n",
       "      <th>t1_champ4id</th>\n",
       "      <th>t1_champ5id</th>\n",
       "      <th>t2_champ1id</th>\n",
       "      <th>t2_champ2id</th>\n",
       "      <th>t2_champ3id</th>\n",
       "      <th>t2_champ4id</th>\n",
       "      <th>t2_champ5id</th>\n",
       "      <th>T1win</th>\n",
       "    </tr>\n",
       "  </thead>\n",
       "  <tbody>\n",
       "    <tr>\n",
       "      <th>count</th>\n",
       "      <td>1.000000e+04</td>\n",
       "      <td>9937.000000</td>\n",
       "      <td>10000.000000</td>\n",
       "      <td>10000.000000</td>\n",
       "      <td>10000.000000</td>\n",
       "      <td>9996.000000</td>\n",
       "      <td>9961.000000</td>\n",
       "      <td>9806.000000</td>\n",
       "      <td>9935.000000</td>\n",
       "      <td>10000.000000</td>\n",
       "      <td>9920.000000</td>\n",
       "      <td>9933.000000</td>\n",
       "      <td>9933.000000</td>\n",
       "      <td>9933.000000</td>\n",
       "      <td>9919.000000</td>\n",
       "      <td>10000.00000</td>\n",
       "    </tr>\n",
       "    <tr>\n",
       "      <th>mean</th>\n",
       "      <td>3.305818e+09</td>\n",
       "      <td>1820.581463</td>\n",
       "      <td>1.409000</td>\n",
       "      <td>1.326000</td>\n",
       "      <td>0.684600</td>\n",
       "      <td>114.876651</td>\n",
       "      <td>117.135328</td>\n",
       "      <td>116.259229</td>\n",
       "      <td>118.271263</td>\n",
       "      <td>109.656200</td>\n",
       "      <td>116.203831</td>\n",
       "      <td>115.703514</td>\n",
       "      <td>116.204973</td>\n",
       "      <td>121.693446</td>\n",
       "      <td>112.564674</td>\n",
       "      <td>0.80000</td>\n",
       "    </tr>\n",
       "    <tr>\n",
       "      <th>std</th>\n",
       "      <td>2.973556e+07</td>\n",
       "      <td>521.334669</td>\n",
       "      <td>0.513561</td>\n",
       "      <td>0.522256</td>\n",
       "      <td>0.770962</td>\n",
       "      <td>120.527851</td>\n",
       "      <td>123.076720</td>\n",
       "      <td>122.083389</td>\n",
       "      <td>123.511370</td>\n",
       "      <td>115.302816</td>\n",
       "      <td>121.891489</td>\n",
       "      <td>121.156248</td>\n",
       "      <td>121.247531</td>\n",
       "      <td>128.426073</td>\n",
       "      <td>121.459015</td>\n",
       "      <td>0.40002</td>\n",
       "    </tr>\n",
       "    <tr>\n",
       "      <th>min</th>\n",
       "      <td>3.215041e+09</td>\n",
       "      <td>191.000000</td>\n",
       "      <td>0.000000</td>\n",
       "      <td>0.000000</td>\n",
       "      <td>0.000000</td>\n",
       "      <td>1.000000</td>\n",
       "      <td>1.000000</td>\n",
       "      <td>1.000000</td>\n",
       "      <td>1.000000</td>\n",
       "      <td>1.000000</td>\n",
       "      <td>1.000000</td>\n",
       "      <td>1.000000</td>\n",
       "      <td>1.000000</td>\n",
       "      <td>1.000000</td>\n",
       "      <td>1.000000</td>\n",
       "      <td>0.00000</td>\n",
       "    </tr>\n",
       "    <tr>\n",
       "      <th>25%</th>\n",
       "      <td>3.290836e+09</td>\n",
       "      <td>1516.000000</td>\n",
       "      <td>1.000000</td>\n",
       "      <td>1.000000</td>\n",
       "      <td>0.000000</td>\n",
       "      <td>35.000000</td>\n",
       "      <td>34.000000</td>\n",
       "      <td>34.000000</td>\n",
       "      <td>37.000000</td>\n",
       "      <td>34.000000</td>\n",
       "      <td>35.000000</td>\n",
       "      <td>36.000000</td>\n",
       "      <td>35.000000</td>\n",
       "      <td>35.000000</td>\n",
       "      <td>33.000000</td>\n",
       "      <td>1.00000</td>\n",
       "    </tr>\n",
       "    <tr>\n",
       "      <th>50%</th>\n",
       "      <td>3.319794e+09</td>\n",
       "      <td>1821.000000</td>\n",
       "      <td>1.000000</td>\n",
       "      <td>1.000000</td>\n",
       "      <td>0.000000</td>\n",
       "      <td>78.000000</td>\n",
       "      <td>79.000000</td>\n",
       "      <td>79.000000</td>\n",
       "      <td>79.000000</td>\n",
       "      <td>75.000000</td>\n",
       "      <td>78.000000</td>\n",
       "      <td>79.000000</td>\n",
       "      <td>79.000000</td>\n",
       "      <td>79.000000</td>\n",
       "      <td>69.000000</td>\n",
       "      <td>1.00000</td>\n",
       "    </tr>\n",
       "    <tr>\n",
       "      <th>75%</th>\n",
       "      <td>3.327098e+09</td>\n",
       "      <td>2141.000000</td>\n",
       "      <td>2.000000</td>\n",
       "      <td>2.000000</td>\n",
       "      <td>1.000000</td>\n",
       "      <td>134.000000</td>\n",
       "      <td>141.000000</td>\n",
       "      <td>141.000000</td>\n",
       "      <td>141.000000</td>\n",
       "      <td>131.000000</td>\n",
       "      <td>141.000000</td>\n",
       "      <td>134.000000</td>\n",
       "      <td>141.000000</td>\n",
       "      <td>141.000000</td>\n",
       "      <td>131.000000</td>\n",
       "      <td>1.00000</td>\n",
       "    </tr>\n",
       "    <tr>\n",
       "      <th>max</th>\n",
       "      <td>3.331726e+09</td>\n",
       "      <td>4132.000000</td>\n",
       "      <td>2.000000</td>\n",
       "      <td>2.000000</td>\n",
       "      <td>2.000000</td>\n",
       "      <td>516.000000</td>\n",
       "      <td>516.000000</td>\n",
       "      <td>516.000000</td>\n",
       "      <td>516.000000</td>\n",
       "      <td>516.000000</td>\n",
       "      <td>516.000000</td>\n",
       "      <td>516.000000</td>\n",
       "      <td>516.000000</td>\n",
       "      <td>516.000000</td>\n",
       "      <td>516.000000</td>\n",
       "      <td>1.00000</td>\n",
       "    </tr>\n",
       "  </tbody>\n",
       "</table>\n",
       "</div>"
      ],
      "text/plain": [
       "             gameId  gameDuration    firstBlood    firstTower  \\\n",
       "count  1.000000e+04   9937.000000  10000.000000  10000.000000   \n",
       "mean   3.305818e+09   1820.581463      1.409000      1.326000   \n",
       "std    2.973556e+07    521.334669      0.513561      0.522256   \n",
       "min    3.215041e+09    191.000000      0.000000      0.000000   \n",
       "25%    3.290836e+09   1516.000000      1.000000      1.000000   \n",
       "50%    3.319794e+09   1821.000000      1.000000      1.000000   \n",
       "75%    3.327098e+09   2141.000000      2.000000      2.000000   \n",
       "max    3.331726e+09   4132.000000      2.000000      2.000000   \n",
       "\n",
       "       firstRiftHerald  t1_champ1id  t1_champ2id  t1_champ3id  t1_champ4id  \\\n",
       "count     10000.000000  9996.000000  9961.000000  9806.000000  9935.000000   \n",
       "mean          0.684600   114.876651   117.135328   116.259229   118.271263   \n",
       "std           0.770962   120.527851   123.076720   122.083389   123.511370   \n",
       "min           0.000000     1.000000     1.000000     1.000000     1.000000   \n",
       "25%           0.000000    35.000000    34.000000    34.000000    37.000000   \n",
       "50%           0.000000    78.000000    79.000000    79.000000    79.000000   \n",
       "75%           1.000000   134.000000   141.000000   141.000000   141.000000   \n",
       "max           2.000000   516.000000   516.000000   516.000000   516.000000   \n",
       "\n",
       "        t1_champ5id  t2_champ1id  t2_champ2id  t2_champ3id  t2_champ4id  \\\n",
       "count  10000.000000  9920.000000  9933.000000  9933.000000  9933.000000   \n",
       "mean     109.656200   116.203831   115.703514   116.204973   121.693446   \n",
       "std      115.302816   121.891489   121.156248   121.247531   128.426073   \n",
       "min        1.000000     1.000000     1.000000     1.000000     1.000000   \n",
       "25%       34.000000    35.000000    36.000000    35.000000    35.000000   \n",
       "50%       75.000000    78.000000    79.000000    79.000000    79.000000   \n",
       "75%      131.000000   141.000000   134.000000   141.000000   141.000000   \n",
       "max      516.000000   516.000000   516.000000   516.000000   516.000000   \n",
       "\n",
       "       t2_champ5id        T1win  \n",
       "count  9919.000000  10000.00000  \n",
       "mean    112.564674      0.80000  \n",
       "std     121.459015      0.40002  \n",
       "min       1.000000      0.00000  \n",
       "25%      33.000000      1.00000  \n",
       "50%      69.000000      1.00000  \n",
       "75%     131.000000      1.00000  \n",
       "max     516.000000      1.00000  "
      ]
     },
     "execution_count": 5,
     "metadata": {},
     "output_type": "execute_result"
    }
   ],
   "source": [
    "df.describe()"
   ]
  },
  {
   "cell_type": "code",
   "execution_count": 6,
   "metadata": {},
   "outputs": [
    {
     "name": "stdout",
     "output_type": "stream",
     "text": [
      "gameDuration : 63\n",
      "t1_champ1id : 4\n",
      "t1_champ2id : 39\n",
      "t1_champ3id : 194\n",
      "t1_champ4id : 65\n",
      "t2_champ1id : 80\n",
      "t2_champ2id : 67\n",
      "t2_champ3id : 67\n",
      "t2_champ4id : 67\n",
      "t2_champ5id : 81\n"
     ]
    }
   ],
   "source": [
    "null_col = []\n",
    "for col in df.columns:\n",
    "    null_count = sum((df[col].isnull()))\n",
    "    if null_count > 0:\n",
    "        print(col,\":\",null_count)\n",
    "        null_col.append(col)"
   ]
  },
  {
   "cell_type": "code",
   "execution_count": 8,
   "metadata": {},
   "outputs": [
    {
     "data": {
      "image/png": "[encoded data removed]",
      "text/plain": [
       "<Figure size 432x288 with 10 Axes>"
      ]
     },
     "metadata": {
      "needs_background": "light"
     },
     "output_type": "display_data"
    }
   ],
   "source": [
    "plt.subplots_adjust(hspace=1.5,wspace=0.6)\n",
    "for i, col in enumerate(null_col):\n",
    "    plt.subplot(4, 4, i+1)\n",
    "    plt.title(col)\n",
    "    plt.hist(df[col])"
   ]
  },
  {
   "cell_type": "code",
   "execution_count": 9,
   "metadata": {},
   "outputs": [],
   "source": [
    "df = df.drop(columns=['gameId'],axis =1)"
   ]
  },
  {
   "cell_type": "code",
   "execution_count": 10,
   "metadata": {
    "scrolled": true
   },
   "outputs": [
    {
     "data": {
      "text/plain": [
       "<matplotlib.axes._subplots.AxesSubplot at 0x10e84c850>"
      ]
     },
     "execution_count": 10,
     "metadata": {},
     "output_type": "execute_result"
    },
    {
     "data": {
      "image/png": "[encoded data removed]",
      "text/plain": [
       "<Figure size 720x576 with 2 Axes>"
      ]
     },
     "metadata": {
      "needs_background": "light"
     },
     "output_type": "display_data"
    }
   ],
   "source": [
    "import seaborn as sns\n",
    "f, ax = plt.subplots(figsize=(10, 8))\n",
    "corr = df.corr()\n",
    "sns.heatmap(corr, mask=np.zeros_like(corr, dtype=np.bool), cmap=sns.diverging_palette(220, 10, as_cmap=True),\n",
    "            square=True, ax=ax)"
   ]
  },
  {
   "cell_type": "code",
   "execution_count": 11,
   "metadata": {},
   "outputs": [],
   "source": [
    "to_cat = ['t1_champ1id', 't1_champ2id', \n",
    "          't1_champ3id','t1_champ4id','t1_champ5id','t2_champ1id','t2_champ2id',\n",
    "          't2_champ3id','t2_champ4id', 't2_champ5id']\n",
    "\n",
    "df[to_cat] = df[to_cat].astype('O')\n"
   ]
  },
  {
   "cell_type": "code",
   "execution_count": 12,
   "metadata": {},
   "outputs": [],
   "source": [
    "from sklearn.model_selection import train_test_split\n",
    "X = df.drop(columns=['T1win'])\n",
    "y = df['T1win']\n",
    "X_train, X_test, y_train, y_test = train_test_split(X, y, test_size=0.2, random_state=0)"
   ]
  },
  {
   "cell_type": "code",
   "execution_count": 13,
   "metadata": {},
   "outputs": [],
   "source": [
    "from sklearn.pipeline import Pipeline\n",
    "from feature_engine import missing_data_imputers as mdi\n",
    "from feature_engine import categorical_encoders as ce\n",
    "from feature_engine.missing_data_imputers import FrequentCategoryImputer\n",
    "from sklearn.preprocessing import StandardScaler\n",
    "from feature_engine import discretisers as dsc\n",
    "\n",
    "prepro_pipe1 = Pipeline([\n",
    "    # missing data imputation \n",
    "    ('imputer_mode', mdi.FrequentCategoryImputer(variables=null_col[1:])),\n",
    "    \n",
    "    ('imputer_num', mdi.MeanMedianImputer(imputation_method='median',\n",
    "                                          variables=['gameDuration']))])\n",
    "prepro_pipe2 = Pipeline([\n",
    "    #categorical encoding  \n",
    "    ('rare_label_enc', ce.RareLabelCategoricalEncoder(\n",
    "        tol=0.02, n_categories=50, variables=to_cat)),\n",
    "    \n",
    "    ('onehot_enc', ce.OneHotCategoricalEncoder(\n",
    "    variables=to_cat,\n",
    "    drop_last=True)),\n",
    "    \n",
    "    ('scale',StandardScaler())\n",
    "])"
   ]
  },
  {
   "cell_type": "code",
   "execution_count": 14,
   "metadata": {
    "scrolled": true
   },
   "outputs": [],
   "source": [
    "prepro_pipe1.fit(X_train, y_train)\n",
    "X_train=prepro_pipe1.transform(X_train)\n",
    "X_test=prepro_pipe1.transform(X_test)\n",
    "X_train[to_cat] = X_train[to_cat].astype('O')\n",
    "X_test[to_cat] = X_test[to_cat].astype('O')\n",
    "prepro_pipe2.fit(X_train, y_train)\n",
    "X_train=prepro_pipe2.transform(X_train)\n",
    "X_test=prepro_pipe2.transform(X_test)\n"
   ]
  },
  {
   "cell_type": "markdown",
   "metadata": {},
   "source": [
    "# Basic Algorithm"
   ]
  },
  {
   "cell_type": "code",
   "execution_count": 15,
   "metadata": {},
   "outputs": [
    {
     "name": "stdout",
     "output_type": "stream",
     "text": [
      "Mean Cross-validation scores: 0.7346435980930754\n",
      "\n",
      "Logistic.coef_: [[ 0.28013618 -0.16682867 -0.91428293 -0.15326561 -0.00206976 -0.05007331\n",
      "  -0.09109836 -0.08762    -0.01034329  0.03708968  0.18861595 -0.01268003\n",
      "  -0.04581002 -0.05259209 -0.00266002 -0.02692515 -0.02888534 -0.14443643\n",
      "  -0.13909252 -0.01293741 -0.04892237 -0.05048001 -0.10341349  0.02792365\n",
      "  -0.06541653 -0.05954025 -0.01547774 -0.06799275 -0.0065341  -0.0209557\n",
      "  -0.07433766 -0.04673176 -0.17124154 -0.02569674]]\n",
      "Logistic.intercept_: [1.67299162]\n",
      "Logistic Performance:  0.808\n"
     ]
    }
   ],
   "source": [
    "#logistic regression\n",
    "from sklearn.linear_model import LogisticRegression\n",
    "from sklearn.model_selection import cross_val_score\n",
    "\n",
    "clf = LogisticRegression().fit(X_train, y_train)\n",
    "\n",
    "cv_scores = cross_val_score(clf, X_train, y_train,scoring='roc_auc')\n",
    "\n",
    "# Mean Cross validation Score\n",
    "print(\"Mean Cross-validation scores: {}\".format(cv_scores.mean()))\n",
    "print()\n",
    "\n",
    "# Print Co-efficients\n",
    "print(\"Logistic.coef_:\", clf.coef_)\n",
    "print(\"Logistic.intercept_:\", clf.intercept_)\n",
    "\n",
    "# Check test data set performance\n",
    "print(\"Logistic Performance: \", clf.score(X_test,y_test))\n",
    "\n"
   ]
  },
  {
   "cell_type": "code",
   "execution_count": 16,
   "metadata": {},
   "outputs": [
    {
     "name": "stdout",
     "output_type": "stream",
     "text": [
      "Best Mean Cross-validation score: 0.79\n",
      "\n",
      "Decision Tree parameters:  {'max_depth': 5}\n",
      "Decision Tree Train Performance:  0.8148300828421521\n",
      "Decision Tree Test Performance:  0.7971359834682448\n"
     ]
    }
   ],
   "source": [
    "#Decision Tree\n",
    "from sklearn.model_selection import GridSearchCV\n",
    "from sklearn.tree import DecisionTreeClassifier\n",
    "dtree = DecisionTreeClassifier(random_state=0)\n",
    "\n",
    "#define a list of parameters\n",
    "param_dtree = {'max_depth': range(1,7)}\n",
    "\n",
    "#apply grid search\n",
    "grid_dtree = GridSearchCV(dtree, param_dtree, cv=5, return_train_score = True, scoring = 'roc_auc')\n",
    "grid_dtree.fit(X_train, y_train)\n",
    "\n",
    "# Mean Cross Validation Score\n",
    "print(\"Best Mean Cross-validation score: {:.2f}\".format(grid_dtree.best_score_))\n",
    "print()\n",
    "\n",
    "#find best parameters\n",
    "print('Decision Tree parameters: ', grid_dtree.best_params_)\n",
    "\n",
    "# Check test data set performance\n",
    "print(\"Decision Tree Train Performance: \", grid_dtree.score(X_train,y_train))\n",
    "print(\"Decision Tree Test Performance: \", grid_dtree.score(X_test,y_test))"
   ]
  },
  {
   "cell_type": "code",
   "execution_count": 17,
   "metadata": {},
   "outputs": [
    {
     "name": "stdout",
     "output_type": "stream",
     "text": [
      "Best Mean Cross-validation score: 0.78\n",
      "\n",
      "KNN parameters:  {'n_neighbors': 6}\n",
      "KNN Test Performance:  0.7959071066982955\n"
     ]
    }
   ],
   "source": [
    "#knn\n",
    "from sklearn.model_selection import GridSearchCV\n",
    "from sklearn.neighbors import KNeighborsClassifier\n",
    "\n",
    "knn = KNeighborsClassifier()\n",
    "\n",
    "# define a list of parameters\n",
    "\n",
    "param_knn = {'n_neighbors': range(5,10)}\n",
    "\n",
    "#apply grid search\n",
    "grid_knn = GridSearchCV(knn, param_knn, cv=5, return_train_score=True, scoring='roc_auc')\n",
    "grid_knn.fit(X_train, y_train)\n",
    "\n",
    "# Mean Cross Validation Score\n",
    "print(\"Best Mean Cross-validation score: {:.2f}\".format(grid_knn.best_score_))\n",
    "print()\n",
    "\n",
    "#find best parameters\n",
    "print('KNN parameters: ', grid_knn.best_params_)\n",
    "\n",
    "# Check test data set performance\n",
    "print(\"KNN Test Performance: \", grid_knn.score(X_test,y_test))"
   ]
  },
  {
   "cell_type": "code",
   "execution_count": 18,
   "metadata": {},
   "outputs": [
    {
     "name": "stdout",
     "output_type": "stream",
     "text": [
      "train score:  0.838044781038701\n",
      "test score:  0.838044781038701\n",
      "Best parameters: {'C': 10, 'gamma': 0.1, 'kernel': 'rbf'}\n",
      "Best cross-validation score: 0.75\n"
     ]
    }
   ],
   "source": [
    "from sklearn import svm\n",
    "\n",
    "supvm = svm.SVC(random_state=0)\n",
    "\n",
    "C = [0.1, 1, 10]\n",
    "\n",
    "param_svm = [{'kernel': ['rbf'],\n",
    "               'C': C,\n",
    "               'gamma': [0.01, 0.1, 1]},\n",
    "              {'kernel': ['linear'],\n",
    "               'C': C}]\n",
    "\n",
    "grid_svm = GridSearchCV(supvm, param_svm, cv=5,\n",
    "                          return_train_score=True,scoring = 'roc_auc')\n",
    "grid_svm.fit(X_train, y_train)\n",
    "print('train score: ', grid_svm.score(X_train, y_train))\n",
    "print('test score: ', grid_svm.score(X_train, y_train))\n",
    "print(\"Best parameters: {}\".format(grid_svm.best_params_))\n",
    "print(\"Best cross-validation score: {:.2f}\".format(grid_svm.best_score_))"
   ]
  },
  {
   "cell_type": "code",
   "execution_count": 19,
   "metadata": {},
   "outputs": [
    {
     "name": "stdout",
     "output_type": "stream",
     "text": [
      "Best Mean Cross Validation Score is 0.7992434898065742\n",
      "Best Mean Cross Validation Score is {'criterion': 'gini', 'max_depth': 6, 'max_features': 'auto', 'n_estimators': 100}\n",
      "Train score is 0.8190898952059348\n",
      "Test score is 0.8079581998483775\n"
     ]
    }
   ],
   "source": [
    "#random forest\n",
    "from sklearn.ensemble import RandomForestClassifier\n",
    "rfc =RandomForestClassifier(random_state=0)\n",
    "rfc_param = { \n",
    "    'n_estimators': [50, 100],\n",
    "    'max_features': ['auto', 'sqrt', 'log2'],\n",
    "    'max_depth' : [4,5,6],\n",
    "    'criterion' :['gini', 'entropy']\n",
    "}\n",
    "\n",
    "grid_rf = GridSearchCV(rfc, rfc_param,cv=5, return_train_score=True, scoring = 'roc_auc')\n",
    "grid_rf.fit(X_train,y_train)\n",
    "\n",
    "print(f'Best Mean Cross Validation Score is {grid_rf.best_score_}')\n",
    "print(f'Best Mean Cross Validation Score is {grid_rf.best_params_}')\n",
    "print(f'Train score is {grid_rf.score(X_train,y_train)}')\n",
    "print(f'Test score is {grid_rf.score(X_test,y_test)}')"
   ]
  },
  {
   "cell_type": "code",
   "execution_count": 20,
   "metadata": {},
   "outputs": [
    {
     "name": "stdout",
     "output_type": "stream",
     "text": [
      "Best Mean Cross Validation Score is 0.8776173648818506\n",
      "Best Mean Cross Validation Score is {'learning_rate': 0.5, 'max_depth': 6, 'n_estimators': 150}\n",
      "Train score is 0.9971727778205536\n",
      "Test score is 0.8917472671247952\n"
     ]
    }
   ],
   "source": [
    "#gradient boost\n",
    "from sklearn.ensemble import GradientBoostingClassifier\n",
    "gbc= GradientBoostingClassifier(random_state=42)\n",
    "gbc_param = {\n",
    "              'max_depth' : [4,5,6],\n",
    "              'n_estimators' : [100,150],\n",
    "              'learning_rate' : [0.5,1.0,2],\n",
    "             }\n",
    "grid_gd = GridSearchCV(gbc, gbc_param,cv=5, return_train_score=True,scoring = 'roc_auc' )\n",
    "grid_gd.fit(X_train,y_train)\n",
    "\n",
    "print(f'Best Mean Cross Validation Score is {grid_gd.best_score_}')\n",
    "print(f'Best Mean Cross Validation Score is {grid_gd.best_params_}')\n",
    "print(f'Train score is {grid_gd.score(X_train,y_train)}')\n",
    "print(f'Test score is {grid_gd.score(X_test,y_test)}')"
   ]
  },
  {
   "cell_type": "code",
   "execution_count": 21,
   "metadata": {},
   "outputs": [
    {
     "name": "stdout",
     "output_type": "stream",
     "text": [
      "Best Mean Cross Validation Score is 0.7921325577024543\n",
      "Best Mean Cross Validation Score is {'criterion': 'entropy', 'max_depth': 8, 'max_features': 'auto', 'n_estimators': 50}\n",
      "Train score is 0.8225673171053645\n",
      "Test score is 0.8013705644273801\n"
     ]
    }
   ],
   "source": [
    "#Extra tree\n",
    "from sklearn.ensemble import ExtraTreesClassifier\n",
    "\n",
    "etc= ExtraTreesClassifier(random_state=42)\n",
    "etc_param = { \n",
    "    'n_estimators': [50,100],\n",
    "    'max_features': ['auto', 'sqrt', 'log2'],\n",
    "    'max_depth' : [5,6,7,8],\n",
    "    'criterion' :['gini', 'entropy']\n",
    "}\n",
    "grid_et = GridSearchCV(etc, etc_param,cv=5, return_train_score=True,scoring = 'roc_auc' )\n",
    "grid_et.fit(X_train,y_train)\n",
    "\n",
    "print(f'Best Mean Cross Validation Score is {grid_et.best_score_}')\n",
    "print(f'Best Mean Cross Validation Score is {grid_et.best_params_}')\n",
    "print(f'Train score is {grid_et.score(X_train,y_train)}')\n",
    "print(f'Test score is {grid_et.score(X_test,y_test)}')"
   ]
  },
  {
   "cell_type": "code",
   "execution_count": 22,
   "metadata": {},
   "outputs": [
    {
     "name": "stdout",
     "output_type": "stream",
     "text": [
      "Best Mean Cross Validation Score is 0.8592799937798384\n",
      "Best Mean Cross Validation Score is {'learning_rate': 0.5, 'max_depth': 6, 'min_child_weight': 1, 'n_estimators': 150, 'subsample': 0.8}\n",
      "Train score is 0.9857219755621937\n",
      "Test score is 0.8735999364163263\n"
     ]
    }
   ],
   "source": [
    "#xgboost\n",
    "from  xgboost import XGBClassifier\n",
    "xgbc= XGBClassifier(random_state=42,early_stopping_rounds=2,objective= 'binary:logistic')\n",
    "xgbc_param = {\n",
    "              'max_depth' : [4,5,6],\n",
    "              'n_estimators' : [100,150],\n",
    "              'learning_rate' : [0.1,0.5,0.8],\n",
    "               'min_child_weight' : [1,3,5],\n",
    "                'subsample':[0.6,0.8,1]\n",
    "             }\n",
    "grid_xgb = GridSearchCV(xgbc, xgbc_param,cv=5, return_train_score=True,scoring = 'roc_auc' )\n",
    "grid_xgb.fit(X_train,y_train)\n",
    "\n",
    "print(f'Best Mean Cross Validation Score is {grid_xgb.best_score_}')\n",
    "print(f'Best Mean Cross Validation Score is {grid_xgb.best_params_}')\n",
    "print(f'Train score is {grid_xgb.score(X_train,y_train)}')\n",
    "print(f'Test score is {grid_xgb.score(X_test,y_test)}')"
   ]
  },
  {
   "cell_type": "code",
   "execution_count": 29,
   "metadata": {},
   "outputs": [],
   "source": [
    "#top 5 estimators\n",
    "estimators_ = [('dtree',grid_dtree.best_estimator_),\n",
    "            ('rf',grid_rf.best_estimator_),('gd',grid_gd.best_estimator_),\n",
    "            ('et',grid_et.best_estimator_),('xgb',grid_xgb.best_estimator_)]"
   ]
  },
  {
   "cell_type": "code",
   "execution_count": 31,
   "metadata": {},
   "outputs": [
    {
     "name": "stdout",
     "output_type": "stream",
     "text": [
      "Best Mean Cross Validation Score is 0.8883636914994948\n",
      "Best Mean Cross Validation params is {'final_estimator__C': 0.1, 'stack_method': 'auto'}\n",
      "Train score is 0.9962552994149823\n",
      "Test score is 0.9019810288327504\n"
     ]
    }
   ],
   "source": [
    "from sklearn.ensemble import StackingClassifier\n",
    "sclf1 = StackingClassifier(estimators= estimators_\n",
    "                            , final_estimator=LogisticRegression())\n",
    "sclf1_param = {\n",
    "              'final_estimator__C' : [0.1,0.2],\n",
    "              'stack_method':['auto', 'predict_proba']\n",
    "             }\n",
    "sclf1_grid = GridSearchCV(sclf1, sclf1_param,cv=5, return_train_score=True,scoring='roc_auc' )\n",
    "sclf1_grid.fit(X_train,y_train)\n",
    "\n",
    "print(f'Best Mean Cross Validation Score is {sclf1_grid.best_score_}')\n",
    "print(f'Best Mean Cross Validation params is {sclf1_grid.best_params_}')\n",
    "print(f'Train score is {sclf1_grid.score(X_train,y_train)}')\n",
    "print(f'Test score is {sclf1_grid.score(X_test,y_test)}')"
   ]
  },
  {
   "cell_type": "markdown",
   "metadata": {},
   "source": [
    "# Cost Sensitive Algorithms"
   ]
  },
  {
   "cell_type": "code",
   "execution_count": 33,
   "metadata": {},
   "outputs": [
    {
     "name": "stdout",
     "output_type": "stream",
     "text": [
      "Best parameters: {'class_weight': {0: 10, 1: 1}}\n",
      "Best Mean cross-validation score: 0.74\n"
     ]
    }
   ],
   "source": [
    "#cost sensitive logistic regession\n",
    "param_grid = {   \n",
    "    'class_weight': [{0:100,1:1}, {0:10,1:1}, {0:1,1:1}, {0:1,1:10}, {0:1,1:100}],\n",
    "}\n",
    "#apply grid search\n",
    "cgrid_logreg= GridSearchCV(LogisticRegression(solver='lbfgs'), param_grid, cv=5, n_jobs=2, scoring='roc_auc')\n",
    "cgrid_logreg.fit(X_train, y_train)\n",
    "\n",
    "print(\"Best parameters: {}\".format(cgrid_logreg.best_params_))\n",
    "print(\"Best Mean cross-validation score: {:.2f}\".format(cgrid_logreg.best_score_))"
   ]
  },
  {
   "cell_type": "code",
   "execution_count": 35,
   "metadata": {},
   "outputs": [
    {
     "name": "stdout",
     "output_type": "stream",
     "text": [
      "Best parameters: {'class_weight': {0: 10, 1: 1}}\n",
      "Best Mean cross-validation score: 0.76\n"
     ]
    }
   ],
   "source": [
    "#svc\n",
    "param_grid = {\n",
    "    'class_weight': [{0:100,1:1}, {0:10,1:1}, {0:1,1:1}, {0:1,1:10}, {0:1,1:100}],\n",
    "}\n",
    "#apply grid search\n",
    "cgrid_svc= GridSearchCV(svm.SVC(), param_grid, cv=5, n_jobs=2, scoring='roc_auc')\n",
    "cgrid_svc.fit(X_train, y_train)\n",
    "\n",
    "print(\"Best parameters: {}\".format(cgrid_svc.best_params_))\n",
    "print(\"Best Mean cross-validation score: {:.2f}\".format(cgrid_svc.best_score_))"
   ]
  },
  {
   "cell_type": "code",
   "execution_count": 38,
   "metadata": {},
   "outputs": [
    {
     "name": "stdout",
     "output_type": "stream",
     "text": [
      "Best parameters: {'class_weight': {0: 1, 1: 10}}\n",
      "Best Mean cross-validation score: 0.79\n"
     ]
    }
   ],
   "source": [
    "#decison tree\n",
    "param_grid = { \n",
    "    'class_weight': [{0:100,1:1}, {0:10,1:1}, {0:1,1:1}, {0:1,1:10}, {0:1,1:100}],\n",
    "}\n",
    "#apply grid search\n",
    "cgrid_dtree= GridSearchCV(DecisionTreeClassifier(), param_grid, cv=5, n_jobs=2, scoring='roc_auc')\n",
    "cgrid_dtree.fit(X_train, y_train)\n",
    "\n",
    "print(\"Best parameters: {}\".format(cgrid_dtree.best_params_))\n",
    "print(\"Best Mean cross-validation score: {:.2f}\".format(cgrid_dtree.best_score_))"
   ]
  },
  {
   "cell_type": "code",
   "execution_count": 39,
   "metadata": {},
   "outputs": [
    {
     "name": "stdout",
     "output_type": "stream",
     "text": [
      "Best parameters: {'scale_pos_weight': 1}\n",
      "Best Mean cross-validation score: 0.85\n"
     ]
    }
   ],
   "source": [
    "#xgb\n",
    "param_grid = { \n",
    "    'scale_pos_weight': [1, 10, 25, 50, 75, 99, 100, 1000],\n",
    "}\n",
    "#apply grid search\n",
    "cgrid_xgboost= GridSearchCV(XGBClassifier(), param_grid, cv=5, n_jobs=2, scoring='roc_auc')\n",
    "cgrid_xgboost.fit(X_train, y_train)\n",
    "\n",
    "print(\"Best parameters: {}\".format(cgrid_xgboost.best_params_))\n",
    "print(\"Best Mean cross-validation score: {:.2f}\".format(cgrid_xgboost.best_score_))"
   ]
  },
  {
   "cell_type": "code",
   "execution_count": 43,
   "metadata": {},
   "outputs": [
    {
     "name": "stdout",
     "output_type": "stream",
     "text": [
      "Mean ROC AUC: 0.863\n"
     ]
    }
   ],
   "source": [
    "#random forest\n",
    "from sklearn.model_selection import RepeatedStratifiedKFold\n",
    "rf = RandomForestClassifier(n_estimators=100, class_weight='balanced')\n",
    "\n",
    "cv = RepeatedStratifiedKFold(n_splits=10, n_repeats=3, random_state=1)\n",
    "\n",
    "scores = cross_val_score(rf, X_train, y_train, scoring='roc_auc', cv=cv, n_jobs=-1)\n",
    "\n",
    "print('Mean ROC AUC: %.3f' % scores.mean())"
   ]
  },
  {
   "cell_type": "code",
   "execution_count": 45,
   "metadata": {},
   "outputs": [
    {
     "name": "stdout",
     "output_type": "stream",
     "text": [
      "Mean ROC AUC: 0.864\n"
     ]
    }
   ],
   "source": [
    "#extratrees\n",
    "rf = ExtraTreesClassifier(n_estimators=50, class_weight='balanced')\n",
    "\n",
    "cv = RepeatedStratifiedKFold(n_splits=10, n_repeats=3, random_state=1)\n",
    "\n",
    "scores = cross_val_score(rf, X_train, y_train, scoring='roc_auc', cv=cv, n_jobs=-1)\n",
    "\n",
    "print('Mean ROC AUC: %.3f' % scores.mean())"
   ]
  },
  {
   "cell_type": "code",
   "execution_count": 47,
   "metadata": {},
   "outputs": [
    {
     "name": "stdout",
     "output_type": "stream",
     "text": [
      "Mean ROC AUC: 0.855\n"
     ]
    }
   ],
   "source": [
    "#Bagging decision tree with under sampling\n",
    "from imblearn.ensemble import BalancedBaggingClassifier\n",
    "\n",
    "b_dtree = BalancedBaggingClassifier()\n",
    "\n",
    "cv = RepeatedStratifiedKFold(n_splits=10, n_repeats=3, random_state=1)\n",
    "\n",
    "scores = cross_val_score(b_dtree, X_train, y_train, scoring='roc_auc', cv=cv, n_jobs=-1)\n",
    "\n",
    "print('Mean ROC AUC: %.3f' % scores.mean())"
   ]
  },
  {
   "cell_type": "markdown",
   "metadata": {},
   "source": [
    "# Data Sampling Algorithms"
   ]
  },
  {
   "cell_type": "code",
   "execution_count": 57,
   "metadata": {},
   "outputs": [],
   "source": [
    "from imblearn.over_sampling import SMOTE\n",
    "from imblearn.pipeline import Pipeline"
   ]
  },
  {
   "cell_type": "code",
   "execution_count": 61,
   "metadata": {},
   "outputs": [
    {
     "name": "stdout",
     "output_type": "stream",
     "text": [
      "Best parameters: {'smote__k_neighbors': 4}\n",
      "Best Mean cross-validation score: 0.80\n"
     ]
    }
   ],
   "source": [
    "#decisiontreee\n",
    "pipe_roc_dtree = Pipeline([('smote',SMOTE()),('dtree',DecisionTreeClassifier(max_depth=5))])\n",
    "param_roc_dtree = {'smote__k_neighbors': [1,2,3,4,5]}\n",
    "\n",
    "ogrid_dtree= GridSearchCV(pipe_roc_dtree,param_roc_dtree, cv=5, n_jobs=2, scoring='roc_auc')\n",
    "ogrid_dtree.fit(X_train, y_train)\n",
    "\n",
    "print(\"Best parameters: {}\".format(ogrid_dtree.best_params_))\n",
    "print(\"Best Mean cross-validation score: {:.2f}\".format(ogrid_dtree.best_score_))"
   ]
  },
  {
   "cell_type": "code",
   "execution_count": 62,
   "metadata": {},
   "outputs": [
    {
     "name": "stdout",
     "output_type": "stream",
     "text": [
      "Best parameters: {'smote__k_neighbors': 1}\n",
      "Best Mean cross-validation score: 0.74\n"
     ]
    }
   ],
   "source": [
    "#logistic regression\n",
    "pipe_roc_lg = Pipeline([('smote',SMOTE()),('lg',LogisticRegression())])\n",
    "param_roc_lg = {'smote__k_neighbors': [1,2,3,4,5]}\n",
    "\n",
    "ogrid_lg= GridSearchCV(pipe_roc_lg,param_roc_lg, cv=5, n_jobs=2, scoring='roc_auc')\n",
    "ogrid_lg.fit(X_train, y_train)\n",
    "\n",
    "print(\"Best parameters: {}\".format(ogrid_lg.best_params_))\n",
    "print(\"Best Mean cross-validation score: {:.2f}\".format(ogrid_lg.best_score_))"
   ]
  },
  {
   "cell_type": "code",
   "execution_count": 63,
   "metadata": {},
   "outputs": [
    {
     "name": "stdout",
     "output_type": "stream",
     "text": [
      "Best parameters: {'smote__k_neighbors': 3}\n",
      "Best Mean cross-validation score: 0.80\n"
     ]
    }
   ],
   "source": [
    "#knn\n",
    "pipe_roc_knn = Pipeline([('smote',SMOTE()),('knn',KNeighborsClassifier(n_neighbors=6))])\n",
    "param_roc_knn = {'smote__k_neighbors': [1,2,3,4,5]}\n",
    "\n",
    "ogrid_knn= GridSearchCV(pipe_roc_knn,param_roc_knn, cv=5, n_jobs=2, scoring='roc_auc')\n",
    "ogrid_knn.fit(X_train, y_train)\n",
    "\n",
    "print(\"Best parameters: {}\".format(ogrid_knn.best_params_))\n",
    "print(\"Best Mean cross-validation score: {:.2f}\".format(ogrid_knn.best_score_))"
   ]
  },
  {
   "cell_type": "code",
   "execution_count": 66,
   "metadata": {},
   "outputs": [
    {
     "name": "stdout",
     "output_type": "stream",
     "text": [
      "Best parameters: {'smote__k_neighbors': 2}\n",
      "Best Mean cross-validation score: 0.79\n"
     ]
    }
   ],
   "source": [
    "#svm\n",
    "pipe_roc_svm = Pipeline([('smote',SMOTE()),('svm',svm.SVC(C=10,gamma=0.1,kernel='rbf'))])\n",
    "param_roc_svm = {'smote__k_neighbors': [1,2,3,4,5]}\n",
    "\n",
    "ogrid_svm= GridSearchCV(pipe_roc_svm,param_roc_svm, cv=5, n_jobs=2, scoring='roc_auc')\n",
    "ogrid_svm.fit(X_train, y_train)\n",
    "\n",
    "print(\"Best parameters: {}\".format(ogrid_svm.best_params_))\n",
    "print(\"Best Mean cross-validation score: {:.2f}\".format(ogrid_svm.best_score_))"
   ]
  },
  {
   "cell_type": "code",
   "execution_count": 67,
   "metadata": {},
   "outputs": [
    {
     "name": "stdout",
     "output_type": "stream",
     "text": [
      "Best parameters: {'rf__max_depth': 5, 'smote__k_neighbors': 1}\n",
      "Best Mean cross-validation score: 0.79\n"
     ]
    }
   ],
   "source": [
    "#randomforest\n",
    "pipe_roc_rf = Pipeline([('smote',SMOTE()),('rf',RandomForestClassifier(n_estimators=50,criterion='gini',\n",
    "                                                                       max_features='auto'))])\n",
    "param_roc_rf = {'smote__k_neighbors': [1,2,3,4,5],\n",
    "                'rf__max_depth' : [4,5]}\n",
    "\n",
    "ogrid_rf= GridSearchCV(pipe_roc_rf,param_roc_rf, cv=5, n_jobs=2, scoring='roc_auc')\n",
    "ogrid_rf.fit(X_train, y_train)\n",
    "\n",
    "print(\"Best parameters: {}\".format(ogrid_rf.best_params_))\n",
    "print(\"Best Mean cross-validation score: {:.2f}\".format(ogrid_rf.best_score_))"
   ]
  },
  {
   "cell_type": "code",
   "execution_count": 76,
   "metadata": {},
   "outputs": [
    {
     "name": "stdout",
     "output_type": "stream",
     "text": [
      "Best parameters: {'smote__k_neighbors': 1, 'xgb__learning_rate': 0.5}\n",
      "Best Mean cross-validation score: 0.83\n"
     ]
    }
   ],
   "source": [
    "#xgb\n",
    "pipe_roc_xgb = Pipeline([('smote',SMOTE()),('xgb',XGBClassifier(random_state=42,\n",
    "                                                                            early_stopping_rounds=2,\n",
    "                                                                            n_estimators=100,\n",
    "                                                                            objective ='binary:logistic',\n",
    "                                                                            max_depth = 4,\n",
    "                                                                             ))])\n",
    "param_roc_xgb = {'smote__k_neighbors': [1,2,3,4,5],\n",
    "                 'xgb__learning_rate' : [0.1,0.5]}\n",
    "\n",
    "ogrid_xgb= GridSearchCV(pipe_roc_xgb,param_roc_xgb, cv=5, n_jobs=2, scoring='roc_auc')\n",
    "ogrid_xgb.fit(X_train, y_train)\n",
    "\n",
    "print(\"Best parameters: {}\".format(ogrid_xgb.best_params_))\n",
    "print(\"Best Mean cross-validation score: {:.2f}\".format(ogrid_xgb.best_score_))"
   ]
  },
  {
   "cell_type": "code",
   "execution_count": 78,
   "metadata": {},
   "outputs": [
    {
     "name": "stdout",
     "output_type": "stream",
     "text": [
      "Best parameters: {'smote__k_neighbors': 3}\n",
      "Best Mean cross-validation score: 0.77\n"
     ]
    }
   ],
   "source": [
    "#easy ensemble classifier\n",
    "from imblearn.ensemble import EasyEnsembleClassifier\n",
    "pipe_roc_ee = Pipeline([('smote',SMOTE()),('ee',EasyEnsembleClassifier())])\n",
    "param_roc_ee = {'smote__k_neighbors': [1,2,3,4,5]}\n",
    "\n",
    "ogrid_ee= GridSearchCV(pipe_roc_ee,param_roc_ee, cv=5, n_jobs=2, scoring='roc_auc')\n",
    "ogrid_ee.fit(X_train, y_train)\n",
    "\n",
    "print(\"Best parameters: {}\".format(ogrid_ee.best_params_))\n",
    "print(\"Best Mean cross-validation score: {:.2f}\".format(ogrid_ee.best_score_))"
   ]
  },
  {
   "cell_type": "code",
   "execution_count": 79,
   "metadata": {},
   "outputs": [],
   "source": [
    "#top 5 estimators\n",
    "estimators_ = [('dtree',ogrid_dtree.best_estimator_),\n",
    "            ('rf',grid_rf.best_estimator_),('gd',grid_svm.best_estimator_),\n",
    "            ('et',grid_knn.best_estimator_),('xgb',ogrid_xgb.best_estimator_)]"
   ]
  },
  {
   "cell_type": "code",
   "execution_count": 81,
   "metadata": {},
   "outputs": [
    {
     "name": "stdout",
     "output_type": "stream",
     "text": [
      "Best Mean Cross Validation Score is 0.8449165281887252\n",
      "Best Mean Cross Validation params is {'final_estimator__C': 0.2, 'stack_method': 'auto'}\n",
      "Train score is 0.9351857289779396\n",
      "Test score is 0.8614540791372184\n"
     ]
    }
   ],
   "source": [
    "from sklearn.ensemble import StackingClassifier\n",
    "sclf2 = StackingClassifier(estimators= estimators_\n",
    "                            , final_estimator=LogisticRegression())\n",
    "sclf2_param = {\n",
    "              'final_estimator__C' : [0.1,0.2],\n",
    "              'stack_method':['auto']\n",
    "             }\n",
    "sclf2_grid = GridSearchCV(sclf2, sclf2_param,cv=5, return_train_score=True,scoring='roc_auc' )\n",
    "sclf2_grid.fit(X_train,y_train)\n",
    "\n",
    "print(f'Best Mean Cross Validation Score is {sclf2_grid.best_score_}')\n",
    "print(f'Best Mean Cross Validation params is {sclf2_grid.best_params_}')\n",
    "print(f'Train score is {sclf2_grid.score(X_train,y_train)}')\n",
    "print(f'Test score is {sclf2_grid.score(X_test,y_test)}')"
   ]
  }
 ],
 "metadata": {
  "kernelspec": {
   "display_name": "Python 3",
   "language": "python",
   "name": "python3"
  },
  "language_info": {
   "codemirror_mode": {
    "name": "ipython",
    "version": 3
   },
   "file_extension": ".py",
   "mimetype": "text/x-python",
   "name": "python",
   "nbconvert_exporter": "python",
   "pygments_lexer": "ipython3",
   "version": "3.7.6"
  },
  "toc": {
   "base_numbering": 1,
   "nav_menu": {},
   "number_sections": true,
   "sideBar": true,
   "skip_h1_title": false,
   "title_cell": "Table of Contents",
   "title_sidebar": "Contents",
   "toc_cell": false,
   "toc_position": {},
   "toc_section_display": true,
   "toc_window_display": false
  }
 },
 "nbformat": 4,
 "nbformat_minor": 2
}
